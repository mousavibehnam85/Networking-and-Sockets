{
 "cells": [
  {
   "cell_type": "code",
   "execution_count": 2,
   "id": "41388c4e-00c3-4f2b-9a7b-acec1e21a82d",
   "metadata": {},
   "outputs": [
    {
     "name": "stdout",
     "output_type": "stream",
     "text": [
      "Total countries retrieved: 250\n",
      "\n",
      "Sample country information:\n",
      "Country Name: Christmas Island\n",
      "Capital: Flying Fish Cove\n",
      "Population: 2072\n",
      "--------------\n",
      "Country Name: Eritrea\n",
      "Capital: Asmara\n",
      "Population: 5352000\n",
      "--------------\n",
      "Country Name: Samoa\n",
      "Capital: Apia\n",
      "Population: 198410\n",
      "--------------\n",
      "Country Name: North Macedonia\n",
      "Capital: Skopje\n",
      "Population: 2077132\n",
      "--------------\n",
      "Country Name: Djibouti\n",
      "Capital: Djibouti\n",
      "Population: 988002\n",
      "--------------\n"
     ]
    }
   ],
   "source": [
    "#Networking\n",
    "\n",
    "import requests\n",
    "\n",
    "def fetch_country_data():\n",
    "    # API endpoint to fetch country data (Example: REST Countries API)\n",
    "    api_url = \"https://restcountries.com/v3.1/all\"\n",
    "\n",
    "    # Fetch data from the API\n",
    "    response = requests.get(api_url)\n",
    "\n",
    "    if response.status_code == 200: # checks the HTTP status code returned by the request made to the API.\n",
    "#In HTTP, a status code of 200 indicates a successful response....it is the attribute of response object\n",
    "        \n",
    "        countries = response.json()#code snippet is used to convert the response content (which is typically in JSON format) into a Python dictionary\n",
    "        return countries\n",
    "    else:\n",
    "        print(\"Failed to fetch data. Status code:\", response.status_code)\n",
    "        return None\n",
    "\n",
    "def display_basic_info(countries):\n",
    "    if countries:\n",
    "        print(\"Total countries retrieved:\", len(countries))\n",
    "        print(\"\\nSample country information:\")\n",
    "        for i in range(5):  # Display information for the first 5 countries as an example\n",
    "            country = countries[i]\n",
    "            print(f\"Country Name: {country['name']['common']}\")#common' key is used to access the common or commonly used name of the country\n",
    "            print(f\"Capital: {country['capital'][0]}\") #[0] index indicates that you want to retrieve the first capital from the list.\n",
    "            print(f\"Population: {country['population']}\")\n",
    "            print(\"--------------\")\n",
    "    else:\n",
    "        print(\"No country data available.\")\n",
    "\n",
    "# Fetch country data\n",
    "country_data = fetch_country_data()\n",
    "\n",
    "# Display basic information about the retrieved countries\n",
    "display_basic_info(country_data)"
   ]
  },
  {
   "cell_type": "code",
   "execution_count": null,
   "id": "02ddd278-32cc-470f-b485-9af17de5bee4",
   "metadata": {},
   "outputs": [],
   "source": []
  }
 ],
 "metadata": {
  "kernelspec": {
   "display_name": "Python 3 (ipykernel)",
   "language": "python",
   "name": "python3"
  },
  "language_info": {
   "codemirror_mode": {
    "name": "ipython",
    "version": 3
   },
   "file_extension": ".py",
   "mimetype": "text/x-python",
   "name": "python",
   "nbconvert_exporter": "python",
   "pygments_lexer": "ipython3",
   "version": "3.12.0"
  }
 },
 "nbformat": 4,
 "nbformat_minor": 5
}
